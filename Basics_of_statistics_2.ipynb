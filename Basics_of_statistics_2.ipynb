{
  "nbformat": 4,
  "nbformat_minor": 0,
  "metadata": {
    "colab": {
      "provenance": [],
      "authorship_tag": "ABX9TyNllzFaM4YenLdf6NpYnPM6",
      "include_colab_link": true
    },
    "kernelspec": {
      "name": "python3",
      "display_name": "Python 3"
    },
    "language_info": {
      "name": "python"
    }
  },
  "cells": [
    {
      "cell_type": "markdown",
      "metadata": {
        "id": "view-in-github",
        "colab_type": "text"
      },
      "source": [
        "<a href=\"https://colab.research.google.com/github/Pravalika-Challuri/Confidence-interval/blob/main/Basics_of_statistics_2.ipynb\" target=\"_parent\"><img src=\"https://colab.research.google.com/assets/colab-badge.svg\" alt=\"Open In Colab\"/></a>"
      ]
    },
    {
      "cell_type": "markdown",
      "source": [
        "**Confidence Interval**"
      ],
      "metadata": {
        "id": "01mMVdEoJJj_"
      }
    },
    {
      "cell_type": "code",
      "execution_count": null,
      "metadata": {
        "id": "Fa0mtM2-Iz0h"
      },
      "outputs": [],
      "source": [
        "import numpy as np"
      ]
    },
    {
      "cell_type": "code",
      "source": [
        "from scipy import stats"
      ],
      "metadata": {
        "id": "iix-LjPCJcBy"
      },
      "execution_count": null,
      "outputs": []
    },
    {
      "cell_type": "code",
      "source": [
        "#data\n",
        "data = [1.13, 1.55, 1.43, 0.92, 1.25, 1.36, 1.32, 0.85, 1.07, 1.48, 1.20, 1.33, 1.18, 1.22, 1.29]\n"
      ],
      "metadata": {
        "id": "wH0GHlQjJswL"
      },
      "execution_count": null,
      "outputs": []
    },
    {
      "cell_type": "code",
      "source": [
        "#sample size\n",
        "n=len(data)"
      ],
      "metadata": {
        "id": "Eq0YbZGbJ5SY"
      },
      "execution_count": null,
      "outputs": []
    },
    {
      "cell_type": "code",
      "source": [
        "#sample mean\n",
        "mean=np.mean(data)"
      ],
      "metadata": {
        "id": "KqNnI6k1KB6o"
      },
      "execution_count": null,
      "outputs": []
    },
    {
      "cell_type": "code",
      "source": [
        "#sample standard deviation(with ddof=1 for sample standard deviation)\n",
        "std_dev=np.std(data,ddof=1)"
      ],
      "metadata": {
        "id": "p3nfqg0QKJyq"
      },
      "execution_count": null,
      "outputs": []
    },
    {
      "cell_type": "code",
      "source": [
        "#Degrees of Freedom\n",
        "df=n-1"
      ],
      "metadata": {
        "id": "_pX5DreOKg2R"
      },
      "execution_count": null,
      "outputs": []
    },
    {
      "cell_type": "code",
      "source": [
        "#t-value for 99% confidence and df=14\n",
        "t_critical=stats.t.ppf(0.995,df)"
      ],
      "metadata": {
        "id": "PoAA2XKjKncE"
      },
      "execution_count": null,
      "outputs": []
    },
    {
      "cell_type": "code",
      "source": [
        "# Confidence interval using sample standard deviation\n",
        "margin_of_error_t = t_critical * (std_dev / np.sqrt(n))\n",
        "ci_t = (mean - margin_of_error_t, mean + margin_of_error_t)\n"
      ],
      "metadata": {
        "id": "NGbaUU8ULmTX"
      },
      "execution_count": null,
      "outputs": []
    },
    {
      "cell_type": "code",
      "source": [
        "#known for population deviation\n",
        "population_std_dev = 0.2\n"
      ],
      "metadata": {
        "id": "CMA-sm_ZMLkD"
      },
      "execution_count": null,
      "outputs": []
    },
    {
      "cell_type": "code",
      "source": [
        "#z-value for 99% confidence(z=2.576)\n",
        "z_critical=stats.norm.ppf(0.995)"
      ],
      "metadata": {
        "id": "lYxLM6SkMhhN"
      },
      "execution_count": null,
      "outputs": []
    },
    {
      "cell_type": "code",
      "source": [
        "\n",
        "# Confidence interval using known population standard deviation\n",
        "margin_of_error_z = z_critical * (population_std_dev / np.sqrt(n))\n",
        "ci_z = (mean - margin_of_error_z, mean + margin_of_error_z)\n"
      ],
      "metadata": {
        "id": "dVhDhzPANvN_"
      },
      "execution_count": null,
      "outputs": []
    },
    {
      "cell_type": "code",
      "source": [
        "#output results\n",
        "print(f\"Sample Mean: {mean:.3f}\")\n",
        "print(f\"Sample Standard Deviation: {std_dev:.3f}\")\n",
        "print(f\"99% Confidence Interval (t-distribution, sample std): {ci_t}\")\n",
        "print(f\"99% Confidence Interval (z-distribution, known std): {ci_z}\")"
      ],
      "metadata": {
        "colab": {
          "base_uri": "https://localhost:8080/"
        },
        "id": "doDDpDEKOkN8",
        "outputId": "baba78aa-8649-4ec5-e831-76898cb03480"
      },
      "execution_count": null,
      "outputs": [
        {
          "output_type": "stream",
          "name": "stdout",
          "text": [
            "Sample Mean: 1.239\n",
            "Sample Standard Deviation: 0.193\n",
            "99% Confidence Interval (t-distribution, sample std): (1.0901973384384906, 1.3871359948948425)\n",
            "99% Confidence Interval (z-distribution, known std): (1.1056514133957607, 1.3716819199375725)\n"
          ]
        }
      ]
    }
  ]
}